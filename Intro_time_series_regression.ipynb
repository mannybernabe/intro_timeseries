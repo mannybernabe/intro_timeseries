{
  "nbformat": 4,
  "nbformat_minor": 0,
  "metadata": {
    "colab": {
      "name": "Intro_time_series_regression.ipynb",
      "version": "0.3.2",
      "provenance": [],
      "collapsed_sections": [],
      "include_colab_link": true
    },
    "kernelspec": {
      "name": "python3",
      "display_name": "Python 3"
    },
    "accelerator": "GPU"
  },
  "cells": [
    {
      "cell_type": "markdown",
      "metadata": {
        "id": "view-in-github",
        "colab_type": "text"
      },
      "source": [
        "<a href=\"https://colab.research.google.com/github/mannybernabe/intro_timeseries/blob/master/Intro_time_series_regression.ipynb\" target=\"_parent\"><img src=\"https://colab.research.google.com/assets/colab-badge.svg\" alt=\"Open In Colab\"/></a>"
      ]
    },
    {
      "cell_type": "markdown",
      "metadata": {
        "id": "lh4ucnuYfBun",
        "colab_type": "text"
      },
      "source": [
        "#Setup & Dependencies"
      ]
    },
    {
      "cell_type": "code",
      "metadata": {
        "id": "qBjfw_Uk1Xu-",
        "colab_type": "code",
        "colab": {
          "base_uri": "https://localhost:8080/",
          "height": 241
        },
        "outputId": "83338329-5cfe-4c08-9b70-9d4aba4bbf80"
      },
      "source": [
        "import numpy as np\n",
        "import pandas as pd\n",
        "import matplotlib.pyplot as plt\n",
        "\n",
        "\n",
        "#Data import\n",
        "from pandas_datareader import data as pdr\n",
        "import fix_yahoo_finance as yf\n",
        "\n",
        "!pip install yfinance --upgrade --no-cache-dir\n",
        "yf.pdr_override()\n",
        "\n",
        "#For mounting to drive\n",
        "from google.colab import drive\n",
        "\n",
        "\n",
        "#Modeling\n",
        "from sklearn.linear_model import LinearRegression, Ridge, Lasso\n",
        "from sklearn import preprocessing\n",
        "from sklearn.model_selection import train_test_split\n",
        "from sklearn.ensemble import GradientBoostingRegressor\n",
        "\n",
        "#Modeling Metrics\n",
        "from sklearn import metrics\n"
      ],
      "execution_count": 117,
      "outputs": [
        {
          "output_type": "stream",
          "text": [
            "Requirement already up-to-date: yfinance in /usr/local/lib/python3.6/dist-packages (0.1.45)\n",
            "Requirement already satisfied, skipping upgrade: numpy>=1.15 in /usr/local/lib/python3.6/dist-packages (from yfinance) (1.16.5)\n",
            "Requirement already satisfied, skipping upgrade: multitasking>=0.0.7 in /usr/local/lib/python3.6/dist-packages (from yfinance) (0.0.9)\n",
            "Requirement already satisfied, skipping upgrade: requests>=2.20 in /usr/local/lib/python3.6/dist-packages (from yfinance) (2.21.0)\n",
            "Requirement already satisfied, skipping upgrade: pandas>=0.24 in /usr/local/lib/python3.6/dist-packages (from yfinance) (0.24.2)\n",
            "Requirement already satisfied, skipping upgrade: idna<2.9,>=2.5 in /usr/local/lib/python3.6/dist-packages (from requests>=2.20->yfinance) (2.8)\n",
            "Requirement already satisfied, skipping upgrade: chardet<3.1.0,>=3.0.2 in /usr/local/lib/python3.6/dist-packages (from requests>=2.20->yfinance) (3.0.4)\n",
            "Requirement already satisfied, skipping upgrade: certifi>=2017.4.17 in /usr/local/lib/python3.6/dist-packages (from requests>=2.20->yfinance) (2019.6.16)\n",
            "Requirement already satisfied, skipping upgrade: urllib3<1.25,>=1.21.1 in /usr/local/lib/python3.6/dist-packages (from requests>=2.20->yfinance) (1.24.3)\n",
            "Requirement already satisfied, skipping upgrade: python-dateutil>=2.5.0 in /usr/local/lib/python3.6/dist-packages (from pandas>=0.24->yfinance) (2.5.3)\n",
            "Requirement already satisfied, skipping upgrade: pytz>=2011k in /usr/local/lib/python3.6/dist-packages (from pandas>=0.24->yfinance) (2018.9)\n",
            "Requirement already satisfied, skipping upgrade: six>=1.5 in /usr/local/lib/python3.6/dist-packages (from python-dateutil>=2.5.0->pandas>=0.24->yfinance) (1.12.0)\n"
          ],
          "name": "stdout"
        }
      ]
    },
    {
      "cell_type": "code",
      "metadata": {
        "id": "wJJTxUqs1ljn",
        "colab_type": "code",
        "outputId": "95ef3bbd-b09c-43fb-9f68-ac3fd12a4566",
        "colab": {
          "base_uri": "https://localhost:8080/",
          "height": 911
        }
      },
      "source": [
        "\n",
        "#Mount folder to save and retrieve outputs\n",
        "drive.mount('/content/drive',force_remount=True)\n",
        "%cd \"/content/drive/My Drive/siraj_homework\""
      ],
      "execution_count": 118,
      "outputs": [
        {
          "output_type": "stream",
          "text": [
            "ERROR:root:Internal Python error in the inspect module.\n",
            "Below is the traceback from this internal error.\n",
            "\n"
          ],
          "name": "stderr"
        },
        {
          "output_type": "stream",
          "text": [
            "Mounted at /content/drive\n",
            "Traceback (most recent call last):\n",
            "  File \"/usr/local/lib/python3.6/dist-packages/IPython/core/interactiveshell.py\", line 2882, in run_code\n",
            "    exec(code_obj, self.user_global_ns, self.user_ns)\n",
            "  File \"<ipython-input-118-d719a8ea86a4>\", line 2, in <module>\n",
            "    get_ipython().magic('cd \"/content/drive/My Drive/siraj_homework\"')\n",
            "  File \"/usr/local/lib/python3.6/dist-packages/IPython/core/interactiveshell.py\", line 2160, in magic\n",
            "    return self.run_line_magic(magic_name, magic_arg_s)\n",
            "  File \"/usr/local/lib/python3.6/dist-packages/IPython/core/interactiveshell.py\", line 2081, in run_line_magic\n",
            "    result = fn(*args,**kwargs)\n",
            "  File \"</usr/local/lib/python3.6/dist-packages/decorator.py:decorator-gen-91>\", line 2, in cd\n",
            "  File \"/usr/local/lib/python3.6/dist-packages/IPython/core/magic.py\", line 188, in <lambda>\n",
            "    call = lambda f, *a, **k: f(*a, **k)\n",
            "  File \"/usr/local/lib/python3.6/dist-packages/IPython/core/magics/osm.py\", line 288, in cd\n",
            "    oldcwd = py3compat.getcwd()\n",
            "OSError: [Errno 107] Transport endpoint is not connected\n",
            "\n",
            "During handling of the above exception, another exception occurred:\n",
            "\n",
            "Traceback (most recent call last):\n",
            "  File \"/usr/local/lib/python3.6/dist-packages/IPython/core/interactiveshell.py\", line 1823, in showtraceback\n",
            "    stb = value._render_traceback_()\n",
            "AttributeError: 'OSError' object has no attribute '_render_traceback_'\n",
            "\n",
            "During handling of the above exception, another exception occurred:\n",
            "\n",
            "Traceback (most recent call last):\n",
            "  File \"/usr/local/lib/python3.6/dist-packages/IPython/core/ultratb.py\", line 1132, in get_records\n",
            "    return _fixed_getinnerframes(etb, number_of_lines_of_context, tb_offset)\n",
            "  File \"/usr/local/lib/python3.6/dist-packages/IPython/core/ultratb.py\", line 313, in wrapped\n",
            "    return f(*args, **kwargs)\n",
            "  File \"/usr/local/lib/python3.6/dist-packages/IPython/core/ultratb.py\", line 358, in _fixed_getinnerframes\n",
            "    records = fix_frame_records_filenames(inspect.getinnerframes(etb, context))\n",
            "  File \"/usr/lib/python3.6/inspect.py\", line 1490, in getinnerframes\n",
            "    frameinfo = (tb.tb_frame,) + getframeinfo(tb, context)\n",
            "  File \"/usr/lib/python3.6/inspect.py\", line 1448, in getframeinfo\n",
            "    filename = getsourcefile(frame) or getfile(frame)\n",
            "  File \"/usr/lib/python3.6/inspect.py\", line 696, in getsourcefile\n",
            "    if getattr(getmodule(object, filename), '__loader__', None) is not None:\n",
            "  File \"/usr/lib/python3.6/inspect.py\", line 725, in getmodule\n",
            "    file = getabsfile(object, _filename)\n",
            "  File \"/usr/lib/python3.6/inspect.py\", line 709, in getabsfile\n",
            "    return os.path.normcase(os.path.abspath(_filename))\n",
            "  File \"/usr/lib/python3.6/posixpath.py\", line 383, in abspath\n",
            "    cwd = os.getcwd()\n",
            "OSError: [Errno 107] Transport endpoint is not connected\n"
          ],
          "name": "stdout"
        },
        {
          "output_type": "error",
          "ename": "OSError",
          "evalue": "ignored",
          "traceback": [
            "\u001b[0;31m---------------------------------------------------------------------------\u001b[0m"
          ]
        }
      ]
    },
    {
      "cell_type": "markdown",
      "metadata": {
        "id": "r4NMWaQJf5vi",
        "colab_type": "text"
      },
      "source": [
        "#Import Data and Discovery"
      ]
    },
    {
      "cell_type": "code",
      "metadata": {
        "id": "XUaMSqfh18g_",
        "colab_type": "code",
        "colab": {}
      },
      "source": [
        "\n",
        "df_full = pdr.get_data_yahoo(\"AAPL\", start=\"2018-01-01\").reset_index()\n",
        "\n",
        "df_full.to_csv('output/AAPL.csv',index=False)\n"
      ],
      "execution_count": 0,
      "outputs": []
    },
    {
      "cell_type": "code",
      "metadata": {
        "id": "VLmB5US53a7s",
        "colab_type": "code",
        "colab": {}
      },
      "source": [
        "df_full.shape"
      ],
      "execution_count": 0,
      "outputs": []
    },
    {
      "cell_type": "code",
      "metadata": {
        "id": "-9UIsVvr1-6b",
        "colab_type": "code",
        "colab": {}
      },
      "source": [
        "df_full.head()"
      ],
      "execution_count": 0,
      "outputs": []
    },
    {
      "cell_type": "code",
      "metadata": {
        "id": "D6tmGBaY3G1h",
        "colab_type": "code",
        "colab": {}
      },
      "source": [
        "df_full.describe()"
      ],
      "execution_count": 0,
      "outputs": []
    },
    {
      "cell_type": "code",
      "metadata": {
        "id": "g5BfNAJh3FT7",
        "colab_type": "code",
        "colab": {}
      },
      "source": [
        "\n",
        "df_full[\"Adj Close\"].plot()"
      ],
      "execution_count": 0,
      "outputs": []
    },
    {
      "cell_type": "markdown",
      "metadata": {
        "id": "01FahZkDlhTY",
        "colab_type": "text"
      },
      "source": [
        "# Data Preproccessing\n"
      ]
    },
    {
      "cell_type": "code",
      "metadata": {
        "id": "kiV0hfjU21p8",
        "colab_type": "code",
        "colab": {}
      },
      "source": [
        "df_full.set_index(\"Date\", inplace=True)"
      ],
      "execution_count": 0,
      "outputs": []
    },
    {
      "cell_type": "code",
      "metadata": {
        "id": "m9UiR3bBPUeK",
        "colab_type": "code",
        "colab": {}
      },
      "source": [
        "window_size=32\n",
        "num_samples=len(df_full)-window_size\n",
        "\n",
        "# Get indices of access for the data\n",
        "indices=np.arange(num_samples).astype(np.int)[:,None]+np.arange(window_size+1).astype(np.int)\n",
        "\n",
        "\n",
        "data = df_full['Adj Close'].values[indices] # Create the 2D matrix of training samples\n",
        "x = data[:,:-1] # Each row represents 32 days in the past\n",
        "y = data[:,-1] # Each output value represents the 33rd day\n"
      ],
      "execution_count": 0,
      "outputs": []
    },
    {
      "cell_type": "code",
      "metadata": {
        "id": "9SRjkIH9Vwbc",
        "colab_type": "code",
        "colab": {}
      },
      "source": [
        "split_fraction=0.8\n",
        "ind_split=int(split_fraction*num_samples)"
      ],
      "execution_count": 0,
      "outputs": []
    },
    {
      "cell_type": "code",
      "metadata": {
        "id": "ojfgnGEIV6zl",
        "colab_type": "code",
        "colab": {}
      },
      "source": [
        "x_train = x[:ind_split]\n",
        "y_train = y[:ind_split]\n",
        "x_test = x[ind_split:]\n",
        "y_test = y[ind_split:]"
      ],
      "execution_count": 0,
      "outputs": []
    },
    {
      "cell_type": "code",
      "metadata": {
        "id": "AJvOM9RNWMyc",
        "colab_type": "code",
        "colab": {}
      },
      "source": [
        "y_test.shape"
      ],
      "execution_count": 0,
      "outputs": []
    },
    {
      "cell_type": "markdown",
      "metadata": {
        "id": "1ObTOxtxqevc",
        "colab_type": "text"
      },
      "source": [
        "#Modeling"
      ]
    },
    {
      "cell_type": "code",
      "metadata": {
        "id": "DhLMy_tp0Wzl",
        "colab_type": "code",
        "colab": {}
      },
      "source": [
        "#Help Functions\n",
        "def get_performance (model_pred):\n",
        "  #Function returns standard performance metrics\n",
        "  print('Mean Absolute Error:', metrics.mean_absolute_error(y_test, model_pred).round(4))  \n",
        "  print('Mean Squared Error:', metrics.mean_squared_error(y_test, model_pred).round(4))  \n",
        "  print('Root Mean Squared Error:', np.sqrt(metrics.mean_squared_error(y_test, model_pred)).round(4))\n",
        "  \n",
        "  \n",
        "  \n",
        "def get_plot (model_pred):\n",
        "  plt.scatter(model_pred, y_test, color=\"gray\")\n",
        "  plt.plot(y_test, y_test, color='red', linewidth=2)"
      ],
      "execution_count": 0,
      "outputs": []
    },
    {
      "cell_type": "code",
      "metadata": {
        "id": "FfsVDK7v0cVN",
        "colab_type": "code",
        "colab": {}
      },
      "source": [
        ""
      ],
      "execution_count": 0,
      "outputs": []
    },
    {
      "cell_type": "markdown",
      "metadata": {
        "id": "i_7NV8mS0exY",
        "colab_type": "text"
      },
      "source": [
        "## Baseline"
      ]
    },
    {
      "cell_type": "code",
      "metadata": {
        "id": "Db9--ffMx2Q6",
        "colab_type": "code",
        "colab": {}
      },
      "source": [
        "y_pred_lag=np.roll(y_test,1)"
      ],
      "execution_count": 0,
      "outputs": []
    },
    {
      "cell_type": "code",
      "metadata": {
        "id": "0ml3n0nVx2TW",
        "colab_type": "code",
        "colab": {}
      },
      "source": [
        "get_performance(y_pred_lag)"
      ],
      "execution_count": 0,
      "outputs": []
    },
    {
      "cell_type": "code",
      "metadata": {
        "id": "dn2YXwLm1Fvt",
        "colab_type": "code",
        "colab": {}
      },
      "source": [
        "get_plot(y_pred_lag)"
      ],
      "execution_count": 0,
      "outputs": []
    },
    {
      "cell_type": "markdown",
      "metadata": {
        "id": "M6emFoD61Qoa",
        "colab_type": "text"
      },
      "source": [
        "## Linear Regression"
      ]
    },
    {
      "cell_type": "code",
      "metadata": {
        "id": "ZvhqwWmqshdp",
        "colab_type": "code",
        "colab": {}
      },
      "source": [
        "model_lr=LinearRegression()\n",
        "model_lr.fit(x_train, y_train)"
      ],
      "execution_count": 0,
      "outputs": []
    },
    {
      "cell_type": "code",
      "metadata": {
        "id": "IJ_9vIwRtar4",
        "colab_type": "code",
        "colab": {}
      },
      "source": [
        "y_pred_lr=model_lr.predict(x_test)"
      ],
      "execution_count": 0,
      "outputs": []
    },
    {
      "cell_type": "code",
      "metadata": {
        "id": "LQyU1G0at3e3",
        "colab_type": "code",
        "colab": {}
      },
      "source": [
        "get_performance(y_pred_lr)"
      ],
      "execution_count": 0,
      "outputs": []
    },
    {
      "cell_type": "code",
      "metadata": {
        "id": "fqSKxWI31bt-",
        "colab_type": "code",
        "colab": {}
      },
      "source": [
        "get_plot(y_pred_lr)"
      ],
      "execution_count": 0,
      "outputs": []
    },
    {
      "cell_type": "code",
      "metadata": {
        "id": "pPTHK6nJuXMT",
        "colab_type": "code",
        "colab": {}
      },
      "source": [
        ""
      ],
      "execution_count": 0,
      "outputs": []
    },
    {
      "cell_type": "code",
      "metadata": {
        "id": "sLmSkYD7vTBc",
        "colab_type": "code",
        "colab": {
          "base_uri": "https://localhost:8080/",
          "height": 68
        },
        "outputId": "6eef9093-9775-4a06-b733-f2510efadb0c"
      },
      "source": [
        "get_performance(y_pred_lr)"
      ],
      "execution_count": 119,
      "outputs": [
        {
          "output_type": "stream",
          "text": [
            "Mean Absolute Error: 2.8789\n",
            "Mean Squared Error: 12.9905\n",
            "Root Mean Squared Error: 3.6042\n"
          ],
          "name": "stdout"
        }
      ]
    },
    {
      "cell_type": "markdown",
      "metadata": {
        "id": "2uOd85gIX9SV",
        "colab_type": "text"
      },
      "source": [
        "## Method #1- Ridge Regression"
      ]
    },
    {
      "cell_type": "code",
      "metadata": {
        "id": "tIZ3_ZtwYBm0",
        "colab_type": "code",
        "colab": {}
      },
      "source": [
        "model_ridge = Ridge()\n",
        "model_ridge.fit(x_train, y_train)\n",
        "\n",
        "#generate predictions\n",
        "y_pred_ridge=model_ridge.predict(x_test)"
      ],
      "execution_count": 0,
      "outputs": []
    },
    {
      "cell_type": "code",
      "metadata": {
        "id": "V7AbF6rQ5rT_",
        "colab_type": "code",
        "colab": {
          "base_uri": "https://localhost:8080/",
          "height": 68
        },
        "outputId": "2b470039-0217-4042-f6aa-71c80fdeb54c"
      },
      "source": [
        "get_performance(y_pred_ridge)"
      ],
      "execution_count": 121,
      "outputs": [
        {
          "output_type": "stream",
          "text": [
            "Mean Absolute Error: 2.8786\n",
            "Mean Squared Error: 12.9883\n",
            "Root Mean Squared Error: 3.6039\n"
          ],
          "name": "stdout"
        }
      ]
    },
    {
      "cell_type": "code",
      "metadata": {
        "id": "SZi1qbIR5rWQ",
        "colab_type": "code",
        "colab": {
          "base_uri": "https://localhost:8080/",
          "height": 269
        },
        "outputId": "32f92ed2-3c2b-45c8-b3eb-c2b464d4120a"
      },
      "source": [
        "get_plot(y_pred_ridge)"
      ],
      "execution_count": 122,
      "outputs": [
        {
          "output_type": "display_data",
          "data": {
            "image/png": "[encoded data removed]",
            "text/plain": [
              "<Figure size 432x288 with 1 Axes>"
            ]
          },
          "metadata": {
            "tags": []
          }
        }
      ]
    },
    {
      "cell_type": "markdown",
      "metadata": {
        "id": "RH1URHb4zRxf",
        "colab_type": "text"
      },
      "source": [
        "## Gradient Boosting Trees"
      ]
    },
    {
      "cell_type": "code",
      "metadata": {
        "id": "cgvfwL0hzWd9",
        "colab_type": "code",
        "colab": {}
      },
      "source": [
        "# Model #2 - Gradient Boosting Trees\n",
        "model_gb = GradientBoostingRegressor()\n",
        "model_gb.fit(x_train, y_train)\n",
        "\n",
        "# Infer\n",
        "y_pred_gb = model_gb.predict(x_test)"
      ],
      "execution_count": 0,
      "outputs": []
    },
    {
      "cell_type": "code",
      "metadata": {
        "id": "hiU5072vIAp8",
        "colab_type": "code",
        "colab": {
          "base_uri": "https://localhost:8080/",
          "height": 68
        },
        "outputId": "be4d8ea7-a613-44a3-a69e-d492a19fdd39"
      },
      "source": [
        "get_performance(y_pred_gb)"
      ],
      "execution_count": 124,
      "outputs": [
        {
          "output_type": "stream",
          "text": [
            "Mean Absolute Error: 3.1889\n",
            "Mean Squared Error: 15.3025\n",
            "Root Mean Squared Error: 3.9118\n"
          ],
          "name": "stdout"
        }
      ]
    },
    {
      "cell_type": "code",
      "metadata": {
        "id": "1xXWb77S6hlA",
        "colab_type": "code",
        "colab": {
          "base_uri": "https://localhost:8080/",
          "height": 269
        },
        "outputId": "3dfafd6e-d234-4357-8bbc-27e3ff4f523c"
      },
      "source": [
        "get_plot(y_pred_gb)"
      ],
      "execution_count": 125,
      "outputs": [
        {
          "output_type": "display_data",
          "data": {
            "image/png": "[encoded data removed]",
            "text/plain": [
              "<Figure size 432x288 with 1 Axes>"
            ]
          },
          "metadata": {
            "tags": []
          }
        }
      ]
    },
    {
      "cell_type": "markdown",
      "metadata": {
        "id": "thaPGWj17ZXq",
        "colab_type": "text"
      },
      "source": [
        "# Comparison"
      ]
    },
    {
      "cell_type": "code",
      "metadata": {
        "id": "1xe34jfS7a2C",
        "colab_type": "code",
        "colab": {}
      },
      "source": [
        "df_comp=pd.DataFrame({\"lag\":np.absolute(y_test-y_pred_lag), \n",
        "              \"lr\":np.absolute(y_test-y_pred_lr), \n",
        "              \"ridge\":np.absolute(y_test-y_pred_ridge),\n",
        "              \"gb\":np.absolute(y_test-y_pred_gb)})"
      ],
      "execution_count": 0,
      "outputs": []
    },
    {
      "cell_type": "code",
      "metadata": {
        "id": "z3AzO-FY79Xh",
        "colab_type": "code",
        "colab": {
          "base_uri": "https://localhost:8080/",
          "height": 398
        },
        "outputId": "20d4eebd-6e3d-4369-e763-1783295ba9e7"
      },
      "source": [
        "df_comp.plot.bar(figsize=(16, 6))\n",
        "plt.ylim(0,10)\n",
        "plt.xlim(9,20)"
      ],
      "execution_count": 127,
      "outputs": [
        {
          "output_type": "execute_result",
          "data": {
            "text/plain": [
              "(9, 20)"
            ]
          },
          "metadata": {
            "tags": []
          },
          "execution_count": 127
        },
        {
          "output_type": "display_data",
          "data": {
            "image/png": "[encoded data removed]",
            "text/plain": [
              "<Figure size 1152x432 with 1 Axes>"
            ]
          },
          "metadata": {
            "tags": []
          }
        }
      ]
    },
    {
      "cell_type": "code",
      "metadata": {
        "id": "2HDaQhq2_BkS",
        "colab_type": "code",
        "colab": {}
      },
      "source": [
        ""
      ],
      "execution_count": 0,
      "outputs": []
    },
    {
      "cell_type": "markdown",
      "metadata": {
        "id": "pWSJU6S-BbAN",
        "colab_type": "text"
      },
      "source": [
        "# Conclusion and Next Steps"
      ]
    },
    {
      "cell_type": "markdown",
      "metadata": {
        "id": "roknARF1CAbi",
        "colab_type": "text"
      },
      "source": [
        "We cycled through 4 different algorithms, ranging from simple to complex:\n",
        "\n",
        "*   lag (previous day's price)\n",
        "*   linear regression\n",
        "*   ridge regresssion\n",
        "*   gradient boosting trees\n",
        "\n",
        "We concluded that linear regression give us the best performance with the least complexity.\n",
        "\n",
        "Next steps might include adding additional features such as trend and recent volatility.\n",
        "\n"
      ]
    },
    {
      "cell_type": "markdown",
      "metadata": {
        "id": "xn3gQqE3CiiN",
        "colab_type": "text"
      },
      "source": [
        "# Resources\n",
        "\n",
        "\n",
        "\n",
        "*   [An Introduction to Statistical Learning](https://www.amazon.com/Introduction-Statistical-Learning-Applications-Statistics/dp/1461471370)\n",
        "*   [Colab: Agent Trading](https://colab.research.google.com/drive/1FzLCI0AO3c7A4bp9Fi01UwXeoc7BN8sW#scrollTo=Lo2Pg-dcY5_U)\n",
        "*   [In 12 minutes: Stocks Analysis with Pandas and Scikit-Learn](https://towardsdatascience.com/in-12-minutes-stocks-analysis-with-pandas-and-scikit-learn-a8d8a7b50ee7)\n",
        "*   [A beginner’s guide to Linear Regression in Python with Scikit-Learn](https://towardsdatascience.com/a-beginners-guide-to-linear-regression-in-python-with-scikit-learn-83a8f7ae2b4f)\n",
        "\n",
        "\n",
        "\n",
        "\n",
        "\n",
        "\n"
      ]
    }
  ]
}